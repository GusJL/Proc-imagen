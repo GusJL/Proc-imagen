{
 "cells": [
  {
   "cell_type": "markdown",
   "metadata": {},
   "source": [
    "COMPARACIÓN DE TRANSISTORES"
   ]
  },
  {
   "cell_type": "code",
   "execution_count": 7,
   "metadata": {},
   "outputs": [],
   "source": [
    "import cv2\n",
    "\n",
    "umbral = 25\n",
    "color = (0,0,255)\n",
    "grosor = 3\n",
    "tam_flecha = 50\n",
    "\n",
    "img1 = cv2.imread('img_patron.jpg')\n",
    "img2 = cv2.imread('img1.jpg')          # <----  REEMPLAZAR ARCHIVO DE IMAGEN CON FALLAS\n",
    "\n",
    "img = cv2.subtract(img2, img1)         #  PARA DETECTAR SERIGRAFIA (img4.jpg) PONER -> img = cv2.subtract(img1, img2) \n",
    "#img = cv2.subtract(img1, img2) \n",
    "\n",
    "img_byn = cv2.cvtColor(img, cv2.COLOR_BGR2GRAY)\n",
    "img_suavizada = cv2.blur(img_byn, (10 ,10))\n",
    "_, img_umbral = cv2.threshold(img_suavizada, umbral, 255, cv2.THRESH_BINARY)\n",
    "contornos, _ = cv2.findContours(img_umbral, cv2.RETR_LIST, cv2.CHAIN_APPROX_NONE)\n",
    "\n",
    "for contorno in contornos:\n",
    "    x,y,ancho,alto = cv2.boundingRect(contorno)\n",
    "    x_1 = x + ancho + tam_flecha\n",
    "    y_1 = y + int(alto/2) - tam_flecha\n",
    "    x_2 = x + ancho\n",
    "    y_2 = y + int(alto/2)\n",
    "    cv2.arrowedLine(img2, (x_1, y_1), (x_2, y_2), color, grosor)\n",
    "    \n",
    "cv2.imshow('IMAGEN PATRON', img1)\n",
    "cv2.imshow('FALLA', img2)\n",
    "\n",
    "cv2.waitKey(0)\n",
    "cv2.destroyAllWindows()"
   ]
  }
 ],
 "metadata": {
  "kernelspec": {
   "display_name": "base",
   "language": "python",
   "name": "python3"
  },
  "language_info": {
   "codemirror_mode": {
    "name": "ipython",
    "version": 3
   },
   "file_extension": ".py",
   "mimetype": "text/x-python",
   "name": "python",
   "nbconvert_exporter": "python",
   "pygments_lexer": "ipython3",
   "version": "3.9.10"
  }
 },
 "nbformat": 4,
 "nbformat_minor": 2
}
