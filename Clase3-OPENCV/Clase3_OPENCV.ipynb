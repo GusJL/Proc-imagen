{
 "cells": [
  {
   "cell_type": "code",
   "execution_count": null,
   "metadata": {},
   "outputs": [],
   "source": [
    "#CARGA DE LIBRERIA OPENCV - VISUALIZACIÓN DE IMAGEN ORIGINAL\n",
    "import cv2\n",
    "img = cv2.imread('imagen.jpg',1)                    #carga la imagen original\n",
    "cv2.imshow('ORIGINAL',img)\n",
    "cv2.waitKey(0)\n",
    "cv2.destroyAllWindows()                              #presionar una TECLA para TERMINAR"
   ]
  },
  {
   "cell_type": "code",
   "execution_count": null,
   "metadata": {},
   "outputs": [],
   "source": [
    "#VISUALIZACIÓN DE IMAGEN EN ESCALA DE GRISES\n",
    "img_byn = cv2.cvtColor(img, cv2.COLOR_BGR2GRAY)     # convierte la imagen en escala de grises\n",
    "cv2.imshow('ESCALA DE GRISES',img_byn)\n",
    "cv2.waitKey(0)\n",
    "cv2.destroyAllWindows()"
   ]
  },
  {
   "cell_type": "code",
   "execution_count": null,
   "metadata": {},
   "outputs": [],
   "source": [
    "#VISUALIZACIÓN DE CADA CANAL (azul, verde, rojo) EN ESCALA DE GRISES\n",
    "img_azul, img_verde, img_roja = cv2.split(img)     #se muestran los 3 canales en escala de grises\n",
    "cv2.imshow('CANAL AZUL', img_azul)\n",
    "cv2.imshow('CANAL VERDE', img_verde)\n",
    "cv2.imshow('CANAL ROJO', img_roja)\n",
    "cv2.waitKey(0)\n",
    "cv2.destroyAllWindows()"
   ]
  },
  {
   "cell_type": "code",
   "execution_count": null,
   "metadata": {},
   "outputs": [],
   "source": [
    "#INFORMACIÓN DE IMAGEN\n",
    "tamanio = img.size                                  #obtención de las características de la imagen original\n",
    "alto, ancho, canales = img.shape\n",
    "tipo = img.dtype\n",
    "print(\"Tamaño: \" + str(tamanio) + \" bytes\")\n",
    "print(\"Ancho: \" + str(ancho) + \" pixeles\")\n",
    "print(\"Alto: \" + str(alto) + \" pixeles\")\n",
    "print(\"N° de Canales: \" + str(canales))\n",
    "print(\"Tipo: \" + str(tipo))"
   ]
  },
  {
   "cell_type": "code",
   "execution_count": null,
   "metadata": {},
   "outputs": [],
   "source": [
    "#HISTOGRAMA\n",
    "from matplotlib import pyplot as plt\n",
    "img0 = cv2.imread('imagen.jpg',0)       #carga de imagen en blanco y negro\n",
    "hist = cv2.calcHist([img0], [0], None, [256], [0, 256])   #imagenes, canales(0=img b&n, 1-2-3(canales img color)), \n",
    "                                                            #región(none=total), histsize, rango nivel de intensidad.\n",
    "cv2.imshow('IMAGEN', img0)\n",
    "plt.xlabel('Nivel de luz')\n",
    "plt.ylabel('N° de pixeles')\n",
    "plt.title('Histograma')\n",
    "plt.plot(hist)\n",
    "plt.show()\n",
    "cv2.waitKey(0)\n",
    "cv2.destroyAllWindows()"
   ]
  },
  {
   "cell_type": "code",
   "execution_count": null,
   "metadata": {},
   "outputs": [],
   "source": [
    "#FILTRO BASADO EN EL UMBRAL \n",
    "#UMBRAL SIMPLE\n",
    "def actualizar_imagen(umbral):\n",
    "    _, img_umbral = cv2.threshold(img0, umbral, 255, cv2.THRESH_BINARY)       #primer argumento no se utiliza, threshold=filtro binario - \n",
    "                                                                            #(imagen, valor umbral, valor máximo, tipo umbral)\n",
    "    cv2.imshow('IMAGEN FILTRADA', img_umbral)\n",
    "cv2.imshow('IMAGEN ORIGINAL', img0)\n",
    "cv2.createTrackbar('UMBRAL', 'IMAGEN ORIGINAL', 0, 255, actualizar_imagen)   #barra de desplazamiento\n",
    "actualizar_imagen(0)                                                         #llamada a la función\n",
    "cv2.waitKey(0)\n",
    "cv2.destroyAllWindows()"
   ]
  },
  {
   "cell_type": "code",
   "execution_count": null,
   "metadata": {},
   "outputs": [],
   "source": [
    "#FILTRO CANNY - DETECCIÓN DE BORDES\n",
    "img_canny = cv2.Canny(img0, 80, 150)      #imagen, umbral inferior, umbral superior\n",
    "cv2.imshow('IMAGEN FILTRADA', img_canny)\n",
    "cv2.waitKey(0)\n",
    "cv2.destroyAllWindows()"
   ]
  }
 ],
 "metadata": {
  "kernelspec": {
   "display_name": "Python 3",
   "language": "python",
   "name": "python3"
  },
  "language_info": {
   "codemirror_mode": {
    "name": "ipython",
    "version": 3
   },
   "file_extension": ".py",
   "mimetype": "text/x-python",
   "name": "python",
   "nbconvert_exporter": "python",
   "pygments_lexer": "ipython3",
   "version": "3.9.13"
  }
 },
 "nbformat": 4,
 "nbformat_minor": 2
}
