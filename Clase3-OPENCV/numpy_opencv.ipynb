{
 "cells": [
  {
   "cell_type": "code",
   "execution_count": null,
   "metadata": {},
   "outputs": [],
   "source": [
    "import numpy as np\n",
    "import cv2\n",
    "\n",
    "alto=ancho=300\n",
    "img_matriz = np.zeros((alto, ancho),np.uint8)    #con ceros\n",
    "\n",
    "cv2.imshow('MATRIZ 0', img_matriz)               #mostrar imagen\n",
    "cv2.waitKey(0)                                 #presionar tecla para cerrar imagen\n",
    "cv2.destroyAllWindows()                        #cierra ventana de imagen\n"
   ]
  },
  {
   "cell_type": "code",
   "execution_count": null,
   "metadata": {},
   "outputs": [],
   "source": [
    "img_matriz = np.ones((alto, ancho),np.uint8)*255    #con unos\n",
    "\n",
    "cv2.imshow('MATRIZ 1', img_matriz)\n",
    "cv2.waitKey(0)\n",
    "cv2.destroyAllWindows()"
   ]
  },
  {
   "cell_type": "code",
   "execution_count": null,
   "metadata": {},
   "outputs": [],
   "source": [
    "img_matriz = np.ones((alto, ancho,3),np.uint8)*255    \n",
    "img_matriz[:] = (255, 0, 0)                         #color azul\n",
    "\n",
    "cv2.imshow('MATRIZ - AZUL', img_matriz)\n",
    "cv2.waitKey(0)\n",
    "cv2.destroyAllWindows()"
   ]
  },
  {
   "cell_type": "code",
   "execution_count": null,
   "metadata": {},
   "outputs": [],
   "source": [
    "img_matriz = np.ones((alto, ancho,3),np.uint8)*255    \n",
    "img_matriz[:] = (0, 255, 0)                         #color verde\n",
    "\n",
    "cv2.imshow('MATRIZ - VERDE', img_matriz)\n",
    "cv2.waitKey(0)\n",
    "cv2.destroyAllWindows()"
   ]
  },
  {
   "cell_type": "code",
   "execution_count": null,
   "metadata": {},
   "outputs": [],
   "source": [
    "img_matriz = np.ones((alto, ancho,3),np.uint8)*255    \n",
    "img_matriz[:] = (0, 0, 255)                         #color rojo\n",
    "\n",
    "cv2.imshow('MATRIZ - ROJO', img_matriz)\n",
    "cv2.waitKey(0)\n",
    "cv2.destroyAllWindows()"
   ]
  },
  {
   "cell_type": "code",
   "execution_count": null,
   "metadata": {},
   "outputs": [],
   "source": [
    "#OBTENER EL COLOR DEL PIXEL\n",
    "color = img_matriz[150, 150]\n",
    "print(color)"
   ]
  },
  {
   "cell_type": "code",
   "execution_count": null,
   "metadata": {},
   "outputs": [],
   "source": [
    "#REJILLA \n",
    "for x in range(ancho):\n",
    "    for y in range(alto):\n",
    "        if x%50 == 0 or y%50 == 0:\n",
    "            img_matriz[y, x] = 0\n",
    "            \n",
    "cv2.imshow('F.ROJO-R.NEGRA', img_matriz)\n",
    "cv2.waitKey(0)\n",
    "cv2.destroyAllWindows()"
   ]
  },
  {
   "cell_type": "code",
   "execution_count": null,
   "metadata": {},
   "outputs": [],
   "source": [
    "img_matriz = np.ones((alto, ancho,3),np.uint8)*255    \n",
    "img_matriz[:] = (255, 255, 255)                         #fondo blanco\n",
    "\n",
    "for x in range(ancho):\n",
    "    for y in range(alto):\n",
    "        if x%50 == 0 or y%50 == 0:\n",
    "            img_matriz[y, x] = (0, 0, 255)\n",
    "            \n",
    "cv2.imshow('F.BLANCO-R.ROJA', img_matriz)\n",
    "cv2.waitKey(0)\n",
    "cv2.destroyAllWindows()"
   ]
  }
 ],
 "metadata": {
  "kernelspec": {
   "display_name": "base",
   "language": "python",
   "name": "python3"
  },
  "language_info": {
   "codemirror_mode": {
    "name": "ipython",
    "version": 3
   },
   "file_extension": ".py",
   "mimetype": "text/x-python",
   "name": "python",
   "nbconvert_exporter": "python",
   "pygments_lexer": "ipython3",
   "version": "3.9.13"
  }
 },
 "nbformat": 4,
 "nbformat_minor": 2
}
