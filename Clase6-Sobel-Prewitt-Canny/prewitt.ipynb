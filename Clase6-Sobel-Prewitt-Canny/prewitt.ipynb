{
 "cells": [
  {
   "cell_type": "markdown",
   "metadata": {},
   "source": [
    "El operador Prewitt fue desarrollado por Judith MS Prewitt. El operador Prewitt se utiliza para la detección de bordes en una imagen. El operador Prewitt detecta ambos tipos de aristas, estas son:\n",
    "\n",
    "Bordes horizontales o a lo largo del eje x,\n",
    "Bordes verticales o a lo largo del eje y."
   ]
  },
  {
   "cell_type": "code",
   "execution_count": 6,
   "metadata": {},
   "outputs": [],
   "source": [
    "import cv2\n",
    "import numpy as np"
   ]
  },
  {
   "cell_type": "code",
   "execution_count": 10,
   "metadata": {},
   "outputs": [],
   "source": [
    "img = cv2.imread('messi.jpg')\n",
    "gray = cv2.cvtColor(img, cv2.COLOR_BGR2GRAY)\n",
    "img_gaussian = cv2.GaussianBlur(gray,(3,3),0)"
   ]
  },
  {
   "cell_type": "code",
   "execution_count": 11,
   "metadata": {},
   "outputs": [],
   "source": [
    "kernelx = np.array([[1,1,1],[0,0,0],[-1,-1,-1]])\n",
    "kernely = np.array([[-1,0,1],[-1,0,1],[-1,0,1]])\n",
    "img_prewittx = cv2.filter2D(img_gaussian, -1, kernelx)\n",
    "img_prewitty = cv2.filter2D(img_gaussian, -1, kernely)"
   ]
  },
  {
   "cell_type": "code",
   "execution_count": 12,
   "metadata": {},
   "outputs": [],
   "source": [
    "cv2.imshow(\"IMAGEN ORIGINAL\", img)\n",
    "cv2.imshow(\"Prewitt X\", img_prewittx)\n",
    "cv2.imshow(\"Prewitt Y\", img_prewitty)\n",
    "cv2.imshow(\"Prewitt\", img_prewittx + img_prewitty)\n",
    "cv2.waitKey(0)\n",
    "cv2.destroyAllWindows()                              #PRESIONAR UNA TECLA PARA TERMINAR"
   ]
  }
 ],
 "metadata": {
  "kernelspec": {
   "display_name": "base",
   "language": "python",
   "name": "python3"
  },
  "language_info": {
   "codemirror_mode": {
    "name": "ipython",
    "version": 3
   },
   "file_extension": ".py",
   "mimetype": "text/x-python",
   "name": "python",
   "nbconvert_exporter": "python",
   "pygments_lexer": "ipython3",
   "version": "3.9.13"
  }
 },
 "nbformat": 4,
 "nbformat_minor": 2
}
