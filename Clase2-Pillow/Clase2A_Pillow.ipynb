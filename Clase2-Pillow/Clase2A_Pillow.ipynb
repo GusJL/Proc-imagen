{
 "cells": [
  {
   "cell_type": "code",
   "execution_count": 8,
   "metadata": {},
   "outputs": [
    {
     "data": {
      "text/plain": [
       "(866, 1390)"
      ]
     },
     "execution_count": 8,
     "metadata": {},
     "output_type": "execute_result"
    }
   ],
   "source": [
    "from PIL import Image\n",
    "filename = \"imagen1.jpg\"\n",
    "with Image.open(filename) as img:\n",
    "    img.load()\n",
    "img.show()\n",
    "img.size"
   ]
  },
  {
   "cell_type": "code",
   "execution_count": 9,
   "metadata": {},
   "outputs": [],
   "source": [
    "recorte = img.crop((250, 280, 670, 800))    # X1, Y1, X2, Y2 (borde sup. izq. 0,0)\n",
    "recorte.show()"
   ]
  },
  {
   "cell_type": "code",
   "execution_count": 10,
   "metadata": {},
   "outputs": [],
   "source": [
    "reduccion = recorte.reduce(4)   #factor de reducción = 4\n",
    "reduccion.show()\n",
    "reduccion.save(\"imagen_reducida.jpg\")     #se graba imagen en disco"
   ]
  },
  {
   "cell_type": "code",
   "execution_count": 11,
   "metadata": {},
   "outputs": [],
   "source": [
    "flip = img.transpose(Image.FLIP_TOP_BOTTOM)\n",
    "flip.show()\n"
   ]
  },
  {
   "cell_type": "code",
   "execution_count": 12,
   "metadata": {},
   "outputs": [],
   "source": [
    "rotar_ang = img.rotate(45)       #especificar grados de rotación\n",
    "rotar_ang.show()"
   ]
  },
  {
   "cell_type": "code",
   "execution_count": 13,
   "metadata": {},
   "outputs": [],
   "source": [
    "from PIL import ImageFilter\n",
    "img_gris = img.convert(\"L\")                            \n",
    "bordes = img_gris.filter(ImageFilter.FIND_EDGES)         #detección de bordes\n",
    "bordes.show()"
   ]
  },
  {
   "cell_type": "code",
   "execution_count": 14,
   "metadata": {},
   "outputs": [],
   "source": [
    "img_gris_suave = img_gris.filter(ImageFilter.SMOOTH)     #suaviazar\n",
    "marcar = img_gris_suave.filter(ImageFilter.EMBOSS)       #marcar\n",
    "marcar.show()"
   ]
  }
 ],
 "metadata": {
  "kernelspec": {
   "display_name": "Python 3",
   "language": "python",
   "name": "python3"
  },
  "language_info": {
   "codemirror_mode": {
    "name": "ipython",
    "version": 3
   },
   "file_extension": ".py",
   "mimetype": "text/x-python",
   "name": "python",
   "nbconvert_exporter": "python",
   "pygments_lexer": "ipython3",
   "version": "3.9.13"
  }
 },
 "nbformat": 4,
 "nbformat_minor": 2
}
