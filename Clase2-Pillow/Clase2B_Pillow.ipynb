{
 "cells": [
  {
   "cell_type": "code",
   "execution_count": null,
   "metadata": {},
   "outputs": [],
   "source": [
    "from PIL import Image, ImageFilter\n",
    "img = \"perro.jpg\"\n",
    "\n",
    "\n",
    "with Image.open(img) as img_p:\n",
    "    img_p.load()\n",
    "img_p.show()\n",
    "res = img_p.size\n",
    "print(\"Resolución de imagen :\", res)\n",
    "img_perro = img_p.crop((75, 50, 660, 1200))  #recorte de imagen\n",
    "img_perro.show()"
   ]
  },
  {
   "cell_type": "code",
   "execution_count": null,
   "metadata": {},
   "outputs": [],
   "source": [
    "img_perro_gris = img_perro.convert(\"L\")      #transformación a escala de grises\n",
    "img_perro_gris.show()\n"
   ]
  },
  {
   "cell_type": "code",
   "execution_count": null,
   "metadata": {},
   "outputs": [],
   "source": [
    "threshold = 140                        #umbral\n",
    "#conversión de todos los pixeles con umbral mayor a 100 en blanco, resto negro.\n",
    "#Se constata que no es buena la separación entre el perro y el fondo\n",
    "img_perro_threshold = img_perro_gris.point(lambda x: 255 if x > threshold else 0)\n",
    "img_perro_threshold.show()"
   ]
  },
  {
   "cell_type": "code",
   "execution_count": null,
   "metadata": {},
   "outputs": [],
   "source": [
    "#Extracción de canales rojo, verde y azul (imagen original)\n",
    "rojo, verde, azul = img_perro.split()\n",
    "rojo.show()\n",
    "verde.show()\n",
    "azul.show()"
   ]
  },
  {
   "cell_type": "code",
   "execution_count": null,
   "metadata": {},
   "outputs": [],
   "source": [
    "#El canal azul tiene un mayor contraste entre los píxeles que representan al perro y los que representan el fondo. \n",
    "#Utilizar la imagen del canal azul para establecer el umbral:\n",
    "threshold = 140\n",
    "img_perro_threshold_a = azul.point(lambda x: 255 if x > threshold else 0)\n",
    "img_perro_threshold_a = img_perro_threshold_a.convert(\"1\")\n",
    "img_perro_threshold_a.show()"
   ]
  },
  {
   "cell_type": "code",
   "execution_count": null,
   "metadata": {},
   "outputs": [],
   "source": [
    "#Definición de funciones para ciclos de 'erosión' y 'dilatación'\n",
    "def erode(cycles, image):\n",
    "    for _ in range(cycles):\n",
    "        image = image.filter(ImageFilter.MinFilter(3))\n",
    "    return image\n",
    "\n",
    "def dilate(cycles, image):\n",
    "    for _ in range(cycles):\n",
    "        image = image.filter(ImageFilter.MaxFilter(3))\n",
    "    return image"
   ]
  },
  {
   "cell_type": "code",
   "execution_count": null,
   "metadata": {},
   "outputs": [],
   "source": [
    "#imagen de umbral erosionada - Eliminación del fondo de la imagen\n",
    "#ciclos de erosión\n",
    "paso_1 = erode(2, img_perro_threshold_a)\n",
    "paso_1.show()"
   ]
  },
  {
   "cell_type": "code",
   "execution_count": null,
   "metadata": {},
   "outputs": [],
   "source": [
    "#ciclos de dilatación\n",
    "paso_2 = dilate(15, paso_1)\n",
    "paso_2.show()"
   ]
  },
  {
   "cell_type": "code",
   "execution_count": null,
   "metadata": {},
   "outputs": [],
   "source": [
    "#Nuevos ciclos de erosión - Finalización de la máscara\n",
    "perro_mascara = erode(6, paso_2)\n",
    "perro_mascara.show()"
   ]
  },
  {
   "cell_type": "code",
   "execution_count": null,
   "metadata": {},
   "outputs": [],
   "source": [
    "#Eliminación de bordes afilados\n",
    "#Conversión imagen binaria a una imagen en escala de grises\n",
    "perro_mascara = perro_mascara.convert(\"L\")\n",
    "perro_mascara = perro_mascara.filter(ImageFilter.BoxBlur(8))\n",
    "perro_mascara.show()"
   ]
  },
  {
   "cell_type": "code",
   "execution_count": null,
   "metadata": {},
   "outputs": [],
   "source": [
    "#Extracción de la imagen del perro\n",
    "blank = img_perro.point(lambda _: 0)\n",
    "perro_recorte = Image.composite(img_perro, blank, perro_mascara)\n",
    "perro_recorte.show()"
   ]
  },
  {
   "cell_type": "code",
   "execution_count": null,
   "metadata": {},
   "outputs": [],
   "source": [
    "#Superposición de imágenes\n",
    "filename_monastery = \"habitacion.jpg\"\n",
    "with Image.open(filename_monastery) as img_habitacion:\n",
    "    img_habitacion.load()\n",
    "\n",
    "img_habitacion.paste(img_perro.resize((img_perro.width // 5, img_perro.height // 5)),(600, 600),\n",
    "                     perro_mascara.resize((perro_mascara.width // 5, perro_mascara.height // 5)),)\n",
    "img_habitacion.show()"
   ]
  }
 ],
 "metadata": {
  "kernelspec": {
   "display_name": "Python 3",
   "language": "python",
   "name": "python3"
  },
  "language_info": {
   "codemirror_mode": {
    "name": "ipython",
    "version": 3
   },
   "file_extension": ".py",
   "mimetype": "text/x-python",
   "name": "python",
   "nbconvert_exporter": "python",
   "pygments_lexer": "ipython3",
   "version": "3.9.13"
  }
 },
 "nbformat": 4,
 "nbformat_minor": 2
}
