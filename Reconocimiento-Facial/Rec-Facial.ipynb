{
 "cells": [
  {
   "cell_type": "markdown",
   "metadata": {},
   "source": [
    "## RECONOCIMIENTO FACIAL\n",
    "video online"
   ]
  },
  {
   "cell_type": "code",
   "execution_count": 4,
   "metadata": {},
   "outputs": [],
   "source": [
    "import cv2                #carga libreria OPENCV\n",
    "\n",
    "color = (0, 255, 255)     #se establece color y grosor de las líneas del cuadro\n",
    "grosor = 2\n",
    "\n",
    "#descargar: https://github.com/opencv/opencv/blob/master/data/haarcascades/haarcascade_frontalface_default.xml\n",
    "clasificador = cv2.CascadeClassifier('haarcascade_frontalface_default.xml')       #Se crea clasificador entrenado a base del archivo descargado\n",
    "\n",
    "incremento_brillo = 0"
   ]
  },
  {
   "cell_type": "code",
   "execution_count": 5,
   "metadata": {},
   "outputs": [],
   "source": [
    "def modifica_brillo(img):                        #funciones para modificar el brillo de la imagen\n",
    "    hsv = cv2.cvtColor(img, cv2.COLOR_BGR2HSV)\n",
    "    h, s, v = cv2.split(hsv)\n",
    "    \n",
    "    limite = 255 - incremento_brillo\n",
    "    v[v > limite] = 255\n",
    "    v[v <= limite] += incremento_brillo\n",
    "    \n",
    "    hsv = cv2.merge((h, s, v))\n",
    "    img = cv2.cvtColor(hsv, cv2.COLOR_HSV2BGR)\n",
    "    return img\n",
    "\n",
    "def incrementa_brillo(valor):\n",
    "    global incremento_brillo\n",
    "    incremento_brillo = valor"
   ]
  },
  {
   "cell_type": "code",
   "execution_count": 6,
   "metadata": {},
   "outputs": [],
   "source": [
    "cv2.namedWindow('webcam')                         #nombre ventana imagen\n",
    "cv2.createTrackbar('Brillo', 'webcam', 0, 255, incrementa_brillo)     #barra de desplazamiento\n",
    "\n",
    "camara = cv2.VideoCapture(0)                        #captura imagen cámara\n",
    "if not camara.isOpened():                           #NO abre cámara ?\n",
    "    print(\"No es posible abrir la cámara\")\n",
    "    exit()\n",
    "    \n",
    "while True:                                         #NO se obtiene imagen?\n",
    "    ret, frame = camara.read()\n",
    "    if not ret:\n",
    "        print(\"No es posible obtener la imagen\")\n",
    "        break\n",
    "    \n",
    "    frame = modifica_brillo(frame)                       #proceso de detección de cara\n",
    "    frame_byn = cv2.cvtColor(frame, cv2.COLOR_BGR2GRAY)\n",
    "    caras = clasificador.detectMultiScale(frame_byn)\n",
    "    for (x, y, ancho, alto) in caras:                    #se dibuja cuadrado\n",
    "        cv2.rectangle(frame, (x, y), (x + ancho, y + alto), color, grosor)\n",
    "        \n",
    "    cv2.imshow('webcam', frame)                         #se muestra imagen(video)\n",
    "    \n",
    "    if cv2.waitKey(1) == ord('q'): break                #se termina procedimiento presionando LETRA 'q'\n",
    "    \n",
    "camara.release()                                      #se libera cámara  \n",
    "cv2.destroyAllWindows()                               #se cierra ventana"
   ]
  }
 ],
 "metadata": {
  "kernelspec": {
   "display_name": "base",
   "language": "python",
   "name": "python3"
  },
  "language_info": {
   "codemirror_mode": {
    "name": "ipython",
    "version": 3
   },
   "file_extension": ".py",
   "mimetype": "text/x-python",
   "name": "python",
   "nbconvert_exporter": "python",
   "pygments_lexer": "ipython3",
   "version": "3.9.13"
  }
 },
 "nbformat": 4,
 "nbformat_minor": 2
}
